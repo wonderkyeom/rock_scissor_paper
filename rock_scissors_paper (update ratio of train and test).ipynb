{
 "cells": [
  {
   "cell_type": "markdown",
   "metadata": {},
   "source": [
    "## GPU 자원을 활용할 수 있는 환경인지 확인"
   ]
  },
  {
   "cell_type": "code",
   "execution_count": 1,
   "metadata": {},
   "outputs": [
    {
     "data": {
      "text/plain": [
       "[PhysicalDevice(name='/physical_device:GPU:0', device_type='GPU')]"
      ]
     },
     "execution_count": 1,
     "metadata": {},
     "output_type": "execute_result"
    }
   ],
   "source": [
    "import tensorflow as tf\n",
    "from tensorflow import keras\n",
    "import numpy as np\n",
    "\n",
    "tf.config.list_physical_devices('GPU')"
   ]
  },
  {
   "cell_type": "markdown",
   "metadata": {},
   "source": [
    "## 사진 파일을 쉽게 불러와 편집하기 위해 PIL, os, glob 라이브러리 import"
   ]
  },
  {
   "cell_type": "code",
   "execution_count": 2,
   "metadata": {},
   "outputs": [
    {
     "name": "stdout",
     "output_type": "stream",
     "text": [
      "Requirement already satisfied: pillow in /home/ssac2/anaconda3/envs/k2/lib/python3.7/site-packages (8.0.1)\n",
      "PIL 라이브러리 import 완료!\n"
     ]
    }
   ],
   "source": [
    "# PIL 라이브러리가 설치되어 있지 않다면 설치\n",
    "!pip install pillow   \n",
    "\n",
    "from PIL import Image\n",
    "import os, glob\n",
    "\n",
    "print(\"PIL 라이브러리 import 완료!\")"
   ]
  },
  {
   "cell_type": "markdown",
   "metadata": {},
   "source": [
    "## 가위, 바위, 보 trainset 구성"
   ]
  },
  {
   "cell_type": "code",
   "execution_count": 3,
   "metadata": {},
   "outputs": [
    {
     "name": "stdout",
     "output_type": "stream",
     "text": [
      "train 이미지 디렉토리 경로:  /home/ssac2/Project/rock_scissor_paper/scissor\n",
      "train 이미지 디렉토리 경로:  /home/ssac2/Project/rps_validset/scissor\n",
      "test 이미지 디렉토리 경로:  /home/ssac2/Project/rps_testset/scissor\n",
      "가위 이미지 resize 완료!\n",
      "현재 train 데이터의 갯수 :  2161\n",
      "현재 valid 데이터의 갯수 :  97\n",
      "현재 test 데이터의 갯수 :  478\n"
     ]
    }
   ],
   "source": [
    "# import os\n",
    "train_sum = 0\n",
    "test_sum = 0\n",
    "valid_sum = 0\n",
    "# 가위 이미지가 저장된 디렉토리 아래의 모든 jpg 파일을 읽어들여서\n",
    "image_dir_path = os.getenv(\"HOME\") + \"/Project/rock_scissor_paper/scissor\"\n",
    "print(\"train 이미지 디렉토리 경로: \", image_dir_path)\n",
    "images=glob.glob(image_dir_path + \"/*.jpg\")  \n",
    "\n",
    "# 파일마다 모두 100x100 사이즈로 바꾸어 저장합니다.\n",
    "target_size=(28,28)\n",
    "for img in images:\n",
    "    old_img=Image.open(img)\n",
    "    new_img=old_img.resize(target_size,Image.ANTIALIAS)\n",
    "    new_img.save(img,\"JPEG\")\n",
    "    train_sum+= 1\n",
    "    \n",
    "    \n",
    "image_dir_path = os.getenv(\"HOME\") + \"/Project/rps_validset/scissor\"\n",
    "print(\"train 이미지 디렉토리 경로: \", image_dir_path)\n",
    "images=glob.glob(image_dir_path + \"/*.jpg\")  \n",
    "\n",
    "# 파일마다 모두 100x100 사이즈로 바꾸어 저장합니다.\n",
    "target_size=(28,28)\n",
    "for img in images:\n",
    "    old_img=Image.open(img)\n",
    "    new_img=old_img.resize(target_size,Image.ANTIALIAS)\n",
    "    new_img.save(img,\"JPEG\")\n",
    "    valid_sum+= 1\n",
    "\n",
    "    \n",
    "image_dir_path = os.getenv(\"HOME\") + \"/Project/rps_testset/scissor\"\n",
    "print(\"test 이미지 디렉토리 경로: \", image_dir_path)\n",
    "images=glob.glob(image_dir_path + \"/*.jpg\")  \n",
    "\n",
    "# 파일마다 모두 28x28 사이즈로 바꾸어 저장합니다.\n",
    "target_size=(28,28)\n",
    "for img in images:\n",
    "    old_img=Image.open(img)\n",
    "    new_img=old_img.resize(target_size,Image.ANTIALIAS)\n",
    "    new_img.save(img,\"JPEG\")\n",
    "    test_sum+= 1\n",
    "\n",
    "print(\"가위 이미지 resize 완료!\")\n",
    "print(\"현재 train 데이터의 갯수 : \", train_sum)\n",
    "print(\"현재 valid 데이터의 갯수 : \", valid_sum)\n",
    "print(\"현재 test 데이터의 갯수 : \", test_sum)"
   ]
  },
  {
   "cell_type": "code",
   "execution_count": 4,
   "metadata": {},
   "outputs": [
    {
     "name": "stdout",
     "output_type": "stream",
     "text": [
      "train 이미지 디렉토리 경로:  /home/ssac2/Project/rock_scissor_paper/rock\n",
      "train 이미지 디렉토리 경로:  /home/ssac2/Project/rps_validset/rock\n",
      "test 이미지 디렉토리 경로:  /home/ssac2/Project/rps_testset/rock\n",
      "바위 이미지 resize 완료!\n",
      "현재 train 데이터의 갯수 :  4321\n",
      "현재 valid 데이터의 갯수 :  195\n",
      "현재 test 데이터의 갯수 :  955\n"
     ]
    }
   ],
   "source": [
    "# 바위 이미지가 저장된 디렉토리 아래의 모든 jpg 파일을 읽어들여서\n",
    "# [[YOUR CODE]]\n",
    "# import os\n",
    "image_dir_path = os.getenv(\"HOME\") + \"/Project/rock_scissor_paper/rock\"\n",
    "print(\"train 이미지 디렉토리 경로: \", image_dir_path)\n",
    "images=glob.glob(image_dir_path + \"/*.jpg\")  \n",
    "\n",
    "target_size=(28,28)\n",
    "for img in images:\n",
    "    old_img=Image.open(img)\n",
    "    new_img=old_img.resize(target_size,Image.ANTIALIAS)\n",
    "    new_img.save(img,\"JPEG\")\n",
    "    train_sum+=1\n",
    "\n",
    "image_dir_path = os.getenv(\"HOME\") + \"/Project/rps_validset/rock\"\n",
    "print(\"train 이미지 디렉토리 경로: \", image_dir_path)\n",
    "images=glob.glob(image_dir_path + \"/*.jpg\")  \n",
    "\n",
    "# 파일마다 모두 100x100 사이즈로 바꾸어 저장합니다.\n",
    "target_size=(28,28)\n",
    "for img in images:\n",
    "    old_img=Image.open(img)\n",
    "    new_img=old_img.resize(target_size,Image.ANTIALIAS)\n",
    "    new_img.save(img,\"JPEG\")\n",
    "    valid_sum+= 1    \n",
    "\n",
    "    \n",
    "image_dir_path = os.getenv(\"HOME\") + \"/Project/rps_testset/rock\"\n",
    "print(\"test 이미지 디렉토리 경로: \", image_dir_path)\n",
    "images=glob.glob(image_dir_path + \"/*.jpg\")  \n",
    "\n",
    "target_size=(28,28)\n",
    "for img in images:\n",
    "    old_img=Image.open(img)\n",
    "    new_img=old_img.resize(target_size,Image.ANTIALIAS)\n",
    "    new_img.save(img,\"JPEG\")\n",
    "    test_sum+=1\n",
    "\n",
    "\n",
    "print(\"바위 이미지 resize 완료!\")\n",
    "print(\"현재 train 데이터의 갯수 : \", train_sum)\n",
    "print(\"현재 valid 데이터의 갯수 : \", valid_sum)\n",
    "print(\"현재 test 데이터의 갯수 : \", test_sum)"
   ]
  },
  {
   "cell_type": "code",
   "execution_count": 5,
   "metadata": {},
   "outputs": [
    {
     "name": "stdout",
     "output_type": "stream",
     "text": [
      "train 이미지 디렉토리 경로:  /home/ssac2/Project/rock_scissor_paper/paper\n",
      "train 이미지 디렉토리 경로:  /home/ssac2/Project/rps_validset/paper\n",
      "test 이미지 디렉토리 경로:  /home/ssac2/Project/rps_testset/paper\n",
      "보 이미지 resize 완료!\n",
      "현재 train 데이터의 갯수 :  6561\n",
      "현재 valid 데이터의 갯수 :  268\n",
      "현재 test 데이터의 갯수 :  1432\n"
     ]
    }
   ],
   "source": [
    "# 보 이미지가 저장된 디렉토리 아래의 모든 jpg 파일을 읽어들여서\n",
    "# [[YOUR CODE]]\n",
    "# import os\n",
    "image_dir_path = os.getenv(\"HOME\") + \"/Project/rock_scissor_paper/paper\"\n",
    "print(\"train 이미지 디렉토리 경로: \", image_dir_path)\n",
    "images=glob.glob(image_dir_path + \"/*.jpg\")  \n",
    "\n",
    "target_size=(28,28)\n",
    "for img in images:\n",
    "    old_img=Image.open(img)\n",
    "    new_img=old_img.resize(target_size,Image.ANTIALIAS)\n",
    "    new_img.save(img,\"JPEG\")\n",
    "    train_sum+=1\n",
    "\n",
    "    \n",
    "image_dir_path = os.getenv(\"HOME\") + \"/Project/rps_validset/paper\"\n",
    "print(\"train 이미지 디렉토리 경로: \", image_dir_path)\n",
    "images=glob.glob(image_dir_path + \"/*.jpg\")  \n",
    "\n",
    "# 파일마다 모두 100x100 사이즈로 바꾸어 저장합니다.\n",
    "target_size=(28,28)\n",
    "for img in images:\n",
    "    old_img=Image.open(img)\n",
    "    new_img=old_img.resize(target_size,Image.ANTIALIAS)\n",
    "    new_img.save(img,\"JPEG\")\n",
    "    valid_sum+= 1\n",
    "\n",
    "image_dir_path = os.getenv(\"HOME\") + \"/Project/rps_testset/paper\"\n",
    "print(\"test 이미지 디렉토리 경로: \", image_dir_path)\n",
    "images=glob.glob(image_dir_path + \"/*.jpg\")  \n",
    "\n",
    "target_size=(28,28)\n",
    "for img in images:\n",
    "    old_img=Image.open(img)\n",
    "    new_img=old_img.resize(target_size,Image.ANTIALIAS)\n",
    "    new_img.save(img,\"JPEG\")\n",
    "    test_sum+=1\n",
    "\n",
    "\n",
    "print(\"보 이미지 resize 완료!\")\n",
    "print(\"현재 train 데이터의 갯수 : \", train_sum)\n",
    "print(\"현재 valid 데이터의 갯수 : \", valid_sum)\n",
    "print(\"현재 test 데이터의 갯수 : \", test_sum)"
   ]
  },
  {
   "cell_type": "code",
   "execution_count": 6,
   "metadata": {},
   "outputs": [
    {
     "name": "stdout",
     "output_type": "stream",
     "text": [
      "학습데이터(x_train)의 이미지 개수는 6561 입니다.\n",
      "project_x_train shape: (6561, 28, 28, 3)\n",
      "project_y_train shape: (6561,)\n"
     ]
    }
   ],
   "source": [
    "\n",
    "def load_data(img_path):\n",
    "    # 가위 : 0, 바위 : 1, 보 : 2\n",
    "    number_of_data= train_sum   # 가위바위보 이미지 개수 총합에 주의하세요.\n",
    "    img_size=28\n",
    "    color=3\n",
    "    #이미지 데이터와 라벨(가위 : 0, 바위 : 1, 보 : 2) 데이터를 담을 행렬(matrix) 영역을 생성합니다.\n",
    "    imgs=np.zeros(number_of_data*img_size*img_size*color,dtype=np.int32).reshape(number_of_data,img_size,img_size,color)\n",
    "    labels=np.zeros(number_of_data,dtype=np.int32)\n",
    "\n",
    "    idx=0\n",
    "    for file in glob.iglob(img_path+'/scissor/*.jpg'):\n",
    "        img = np.array(Image.open(file),dtype=np.int32)\n",
    "        imgs[idx,:,:,:]=img    # 데이터 영역에 이미지 행렬을 복사\n",
    "        labels[idx]=0   # 가위 : 0\n",
    "        idx=idx+1\n",
    "\n",
    "    for file in glob.iglob(img_path+'/rock/*.jpg'):\n",
    "        img = np.array(Image.open(file),dtype=np.int32)\n",
    "        imgs[idx,:,:,:]=img    # 데이터 영역에 이미지 행렬을 복사\n",
    "        labels[idx]=1   # 바위 : 1\n",
    "        idx=idx+1       \n",
    "    \n",
    "    for file in glob.iglob(img_path+'/paper/*.jpg'):\n",
    "        img = np.array(Image.open(file),dtype=np.int32)\n",
    "        imgs[idx,:,:,:]=img    # 데이터 영역에 이미지 행렬을 복사\n",
    "        labels[idx]=2   # 보 : 2\n",
    "        idx=idx+1\n",
    "        \n",
    "    print(\"학습데이터(x_train)의 이미지 개수는\",idx,\"입니다.\")\n",
    "    return imgs, labels\n",
    "\n",
    "image_dir_path = os.getenv(\"HOME\") + \"/Project/rock_scissor_paper\"\n",
    "(project_x_train, project_y_train)=load_data(image_dir_path)\n",
    "project_x_train_norm = project_x_train/255.0   # 입력은 0~1 사이의 값으로 정규화\n",
    "\n",
    "print(\"project_x_train shape: {}\".format(project_x_train.shape))\n",
    "print(\"project_y_train shape: {}\".format(project_y_train.shape))"
   ]
  },
  {
   "cell_type": "code",
   "execution_count": 7,
   "metadata": {},
   "outputs": [
    {
     "name": "stdout",
     "output_type": "stream",
     "text": [
      "라벨:  0\n"
     ]
    },
    {
     "data": {
      "image/png": "[encoded data removed]",
      "text/plain": [
       "<Figure size 432x288 with 1 Axes>"
      ]
     },
     "metadata": {
      "needs_background": "light"
     },
     "output_type": "display_data"
    }
   ],
   "source": [
    "import matplotlib.pyplot as plt\n",
    "plt.imshow(project_x_train[0])\n",
    "print('라벨: ', project_y_train[0])"
   ]
  },
  {
   "cell_type": "markdown",
   "metadata": {},
   "source": [
    "## 학습 모델 생성"
   ]
  },
  {
   "cell_type": "code",
   "execution_count": 8,
   "metadata": {},
   "outputs": [
    {
     "name": "stdout",
     "output_type": "stream",
     "text": [
      "Model: \"sequential\"\n",
      "_________________________________________________________________\n",
      "Layer (type)                 Output Shape              Param #   \n",
      "=================================================================\n",
      "conv2d (Conv2D)              (None, 26, 26, 16)        448       \n",
      "_________________________________________________________________\n",
      "max_pooling2d (MaxPooling2D) (None, 13, 13, 16)        0         \n",
      "_________________________________________________________________\n",
      "conv2d_1 (Conv2D)            (None, 11, 11, 32)        4640      \n",
      "_________________________________________________________________\n",
      "max_pooling2d_1 (MaxPooling2 (None, 5, 5, 32)          0         \n",
      "_________________________________________________________________\n",
      "flatten (Flatten)            (None, 800)               0         \n",
      "_________________________________________________________________\n",
      "dense (Dense)                (None, 32)                25632     \n",
      "_________________________________________________________________\n",
      "dense_1 (Dense)              (None, 3)                 99        \n",
      "=================================================================\n",
      "Total params: 30,819\n",
      "Trainable params: 30,819\n",
      "Non-trainable params: 0\n",
      "_________________________________________________________________\n"
     ]
    }
   ],
   "source": [
    "\n",
    "# model을 직접 만들어 보세요.\n",
    "# Hint! model의 입력/출력부에 특히 유의해 주세요. 가위바위보 데이터셋은 MNIST 데이터셋과 어떤 점이 달라졌나요?\n",
    "# [[YOUR CODE]]\n",
    "'''\n",
    "image_dir_path = os.getenv(\"HOME\") + \"/Project/rock_scissor_paper\"\n",
    "(x_train, y_train) = load_data(image_dir_path)\n",
    "x_train_norm, x_test_norm = x_train / 255.0, x_test / 255.0\n",
    "# print(x_train.shape)\n",
    "'''\n",
    "\n",
    "model=keras.models.Sequential()\n",
    "model.add(keras.layers.Conv2D(16, (3,3), activation='relu', input_shape=(28,28,3)))\n",
    "model.add(keras.layers.MaxPool2D(2,2))\n",
    "model.add(keras.layers.Conv2D(32, (3,3), activation='relu'))\n",
    "model.add(keras.layers.MaxPooling2D((2,2)))\n",
    "model.add(keras.layers.Flatten())\n",
    "model.add(keras.layers.Dense(32, activation='relu'))\n",
    "model.add(keras.layers.Dense(3, activation='softmax'))\n",
    "\n",
    "model.summary()"
   ]
  },
  {
   "cell_type": "markdown",
   "metadata": {},
   "source": [
    "## 모델 학습시키기"
   ]
  },
  {
   "cell_type": "code",
   "execution_count": 9,
   "metadata": {},
   "outputs": [
    {
     "name": "stdout",
     "output_type": "stream",
     "text": [
      "Epoch 1/10\n",
      "206/206 [==============================] - 14s 70ms/step - loss: 0.8928 - accuracy: 0.5716\n",
      "Epoch 2/10\n",
      "206/206 [==============================] - 2s 8ms/step - loss: 0.5365 - accuracy: 0.7889\n",
      "Epoch 3/10\n",
      "206/206 [==============================] - 2s 8ms/step - loss: 0.3515 - accuracy: 0.8729\n",
      "Epoch 4/10\n",
      "206/206 [==============================] - 2s 8ms/step - loss: 0.2589 - accuracy: 0.9121\n",
      "Epoch 5/10\n",
      "206/206 [==============================] - 2s 8ms/step - loss: 0.1952 - accuracy: 0.9357\n",
      "Epoch 6/10\n",
      "206/206 [==============================] - 2s 8ms/step - loss: 0.2766 - accuracy: 0.9052\n",
      "Epoch 7/10\n",
      "206/206 [==============================] - 2s 8ms/step - loss: 0.1733 - accuracy: 0.9409\n",
      "Epoch 8/10\n",
      "206/206 [==============================] - 2s 8ms/step - loss: 0.1219 - accuracy: 0.9616\n",
      "Epoch 9/10\n",
      "206/206 [==============================] - 2s 8ms/step - loss: 0.1026 - accuracy: 0.9689\n",
      "Epoch 10/10\n",
      "206/206 [==============================] - 2s 8ms/step - loss: 0.0860 - accuracy: 0.9739\n"
     ]
    },
    {
     "data": {
      "text/plain": [
       "<tensorflow.python.keras.callbacks.History at 0x7f35806382d0>"
      ]
     },
     "execution_count": 9,
     "metadata": {},
     "output_type": "execute_result"
    }
   ],
   "source": [
    "# model을 학습시키는 코드를 직접 작성해 보세요.\n",
    "# Hint! model.compile()과 model.fit()을 사용해 봅시다.\n",
    "# [[YOUR CODE]]\n",
    "\n",
    "project_x_train_reshaped=project_x_train_norm.reshape( -1, 28, 28, 3)  # 데이터갯수에 -1을 쓰면 reshape시 자동계산됩니다.\n",
    "model.compile(optimizer='adam',\n",
    "             loss='sparse_categorical_crossentropy',\n",
    "             metrics=['accuracy'])\n",
    "\n",
    "model.fit(project_x_train_reshaped, project_y_train, epochs=10)"
   ]
  },
  {
   "cell_type": "markdown",
   "metadata": {},
   "source": [
    "## 모델의 logical함을 보이기 위해 validation set 구성 (trainset에서 임의로 추출)"
   ]
  },
  {
   "cell_type": "code",
   "execution_count": 10,
   "metadata": {},
   "outputs": [
    {
     "name": "stdout",
     "output_type": "stream",
     "text": [
      "valid 데이터(x_valid)의 이미지 개수는 268 입니다.\n",
      "project_x_valid shape: (268, 28, 28, 3)\n",
      "project_y_valid shape: (268,)\n"
     ]
    }
   ],
   "source": [
    "# validset으로 모델의 정확성 확인!\n",
    "import numpy as np #위에 선언했는데.. np 에러나서 재선언\n",
    "\n",
    "def load_valid_data(img_path):\n",
    "    # 가위 : 0, 바위 : 1, 보 : 2\n",
    "    number_of_data= valid_sum   # 가위바위보 이미지 개수 총합에 주의하세요.\n",
    "    img_size=28\n",
    "    color=3\n",
    "    #이미지 데이터와 라벨(가위 : 0, 바위 : 1, 보 : 2) 데이터를 담을 행렬(matrix) 영역을 생성합니다.\n",
    "    imgs=np.zeros(number_of_data*img_size*img_size*color,dtype=np.int32).reshape(number_of_data,img_size,img_size,color)\n",
    "    labels=np.zeros(number_of_data,dtype=np.int32)\n",
    "\n",
    "    idx=0\n",
    "    for file in glob.iglob(img_path+'/scissor/*.jpg'):\n",
    "        img = np.array(Image.open(file),dtype=np.int32)\n",
    "        imgs[idx,:,:,:]=img    # 데이터 영역에 이미지 행렬을 복사\n",
    "        labels[idx]=0   # 가위 : 0\n",
    "        idx=idx+1\n",
    "\n",
    "    for file in glob.iglob(img_path+'/rock/*.jpg'):\n",
    "        img = np.array(Image.open(file),dtype=np.int32)\n",
    "        imgs[idx,:,:,:]=img    # 데이터 영역에 이미지 행렬을 복사\n",
    "        labels[idx]=1   # 바위 : 1\n",
    "        idx=idx+1       \n",
    "    \n",
    "    for file in glob.iglob(img_path+'/paper/*.jpg'):\n",
    "        img = np.array(Image.open(file),dtype=np.int32)\n",
    "        imgs[idx,:,:,:]=img    # 데이터 영역에 이미지 행렬을 복사\n",
    "        labels[idx]=2   # 보 : 2\n",
    "        idx=idx+1\n",
    "        \n",
    "    print(\"valid 데이터(x_valid)의 이미지 개수는\",idx,\"입니다.\")\n",
    "    return imgs, labels\n",
    "\n",
    "valid_image_dir_path = os.getenv(\"HOME\") + \"/Project/rps_validset\"\n",
    "(project_x_valid, project_y_valid)=load_valid_data(valid_image_dir_path)\n",
    "project_x_valid_norm = project_x_valid/255.0   # 입력은 0~1 사이의 값으로 정규화\n",
    "\n",
    "print(\"project_x_valid shape: {}\".format(project_x_valid.shape))\n",
    "print(\"project_y_valid shape: {}\".format(project_y_valid.shape))"
   ]
  },
  {
   "cell_type": "code",
   "execution_count": 11,
   "metadata": {},
   "outputs": [
    {
     "name": "stdout",
     "output_type": "stream",
     "text": [
      "9/9 - 6s - loss: 0.4814 - accuracy: 0.8918\n",
      "valid_loss: 0.48142772912979126 \n",
      "valid_accuracy: 0.891791045665741\n",
      "예측확률분포: [0.3270942  0.03976543 0.6331403 ]\n",
      "라벨: 0, 예측결과: 2\n"
     ]
    },
    {
     "data": {
      "image/png": "[encoded data removed]",
      "text/plain": [
       "<Figure size 432x288 with 1 Axes>"
      ]
     },
     "metadata": {
      "needs_background": "light"
     },
     "output_type": "display_data"
    },
    {
     "name": "stdout",
     "output_type": "stream",
     "text": [
      "예측확률분포: [0.48273662 0.00757249 0.5096909 ]\n",
      "라벨: 0, 예측결과: 2\n"
     ]
    },
    {
     "data": {
      "image/png": "[encoded data removed]",
      "text/plain": [
       "<Figure size 432x288 with 1 Axes>"
      ]
     },
     "metadata": {
      "needs_background": "light"
     },
     "output_type": "display_data"
    },
    {
     "name": "stdout",
     "output_type": "stream",
     "text": [
      "예측확률분포: [0.3270942  0.03976543 0.6331403 ]\n",
      "라벨: 0, 예측결과: 2\n"
     ]
    },
    {
     "data": {
      "image/png": "[encoded data removed]",
      "text/plain": [
       "<Figure size 432x288 with 1 Axes>"
      ]
     },
     "metadata": {
      "needs_background": "light"
     },
     "output_type": "display_data"
    },
    {
     "name": "stdout",
     "output_type": "stream",
     "text": [
      "예측확률분포: [0.892428   0.10450386 0.00306812]\n",
      "라벨: 2, 예측결과: 0\n"
     ]
    },
    {
     "data": {
      "image/png": "[encoded data removed]",
      "text/plain": [
       "<Figure size 432x288 with 1 Axes>"
      ]
     },
     "metadata": {
      "needs_background": "light"
     },
     "output_type": "display_data"
    },
    {
     "name": "stdout",
     "output_type": "stream",
     "text": [
      "예측확률분포: [5.5008745e-03 3.1015839e-05 9.9446809e-01]\n",
      "라벨: 0, 예측결과: 2\n"
     ]
    },
    {
     "data": {
      "image/png": "[encoded data removed]",
      "text/plain": [
       "<Figure size 432x288 with 1 Axes>"
      ]
     },
     "metadata": {
      "needs_background": "light"
     },
     "output_type": "display_data"
    }
   ],
   "source": [
    "project_x_valid_reshaped=project_x_valid_norm.reshape( -1, 28, 28, 3) \n",
    "\n",
    "test_loss, test_accuracy = model.evaluate(project_x_valid_reshaped, project_y_valid, verbose=2)\n",
    "print(\"valid_loss: {} \".format(test_loss))\n",
    "print(\"valid_accuracy: {}\".format(test_accuracy))\n",
    "\n",
    "\n",
    "import random\n",
    "### 어떠한 정보를 잘못예측하는지 알아보기 ###\n",
    "pro_predicted_result = model.predict(project_x_valid_reshaped)  # model이 추론한 확률값. \n",
    "pro_predicted_labels = np.argmax(pro_predicted_result, axis=1)\n",
    "\n",
    "pro_wrong_predict_list=[]\n",
    "for i, _ in enumerate(pro_predicted_labels):\n",
    "    # i번째 test_labels과 y_test이 다른 경우만 모아 봅시다. \n",
    "    if pro_predicted_labels[i] != project_y_valid[i]:\n",
    "        pro_wrong_predict_list.append(i)\n",
    "\n",
    "\n",
    "# 5개만 추출\n",
    "samples = random.choices(population=pro_wrong_predict_list, k=5)\n",
    "for n in samples:\n",
    "    # print(n)\n",
    "    print(\"예측확률분포: \" + str(pro_predicted_result[n]))\n",
    "    print(\"라벨: \" + str(project_y_valid[n]) + \", 예측결과: \" + str(pro_predicted_labels[n]))\n",
    "    plt.imshow(project_x_valid[n], cmap=plt.cm.binary)\n",
    "    plt.show()"
   ]
  },
  {
   "cell_type": "markdown",
   "metadata": {},
   "source": [
    "## Testset 구성 (Trainset 구성때 사용하지 않은 data로만 구성)"
   ]
  },
  {
   "cell_type": "code",
   "execution_count": 12,
   "metadata": {},
   "outputs": [
    {
     "name": "stdout",
     "output_type": "stream",
     "text": [
      "학습데이터(x_test)의 이미지 개수는 1432 입니다.\n",
      "project_x_test shape: (1432, 28, 28, 3)\n",
      "project_y_test shape: (1432,)\n"
     ]
    }
   ],
   "source": [
    "# x_test, y_test를 만드는 방법은 x_train, y_train을 만드는 방법과 아주 유사합니다.\n",
    "# [[YOUR CODE]]\n",
    "import numpy as np #위에 선언했는데.. np 에러나서 재선언\n",
    "\n",
    "def load_test_data(img_path):\n",
    "    # 가위 : 0, 바위 : 1, 보 : 2\n",
    "    number_of_data= test_sum   # 가위바위보 이미지 개수 총합에 주의하세요.\n",
    "    img_size=28\n",
    "    color=3\n",
    "    #이미지 데이터와 라벨(가위 : 0, 바위 : 1, 보 : 2) 데이터를 담을 행렬(matrix) 영역을 생성합니다.\n",
    "    imgs=np.zeros(number_of_data*img_size*img_size*color,dtype=np.int32).reshape(number_of_data,img_size,img_size,color)\n",
    "    labels=np.zeros(number_of_data,dtype=np.int32)\n",
    "\n",
    "    idx=0\n",
    "    for file in glob.iglob(img_path+'/scissor/*.jpg'):\n",
    "        img = np.array(Image.open(file),dtype=np.int32)\n",
    "        imgs[idx,:,:,:]=img    # 데이터 영역에 이미지 행렬을 복사\n",
    "        labels[idx]=0   # 가위 : 0\n",
    "        idx=idx+1\n",
    "\n",
    "    for file in glob.iglob(img_path+'/rock/*.jpg'):\n",
    "        img = np.array(Image.open(file),dtype=np.int32)\n",
    "        imgs[idx,:,:,:]=img    # 데이터 영역에 이미지 행렬을 복사\n",
    "        labels[idx]=1   # 바위 : 1\n",
    "        idx=idx+1       \n",
    "    \n",
    "    for file in glob.iglob(img_path+'/paper/*.jpg'):\n",
    "        img = np.array(Image.open(file),dtype=np.int32)\n",
    "        imgs[idx,:,:,:]=img    # 데이터 영역에 이미지 행렬을 복사\n",
    "        labels[idx]=2   # 보 : 2\n",
    "        idx=idx+1\n",
    "        \n",
    "    print(\"학습데이터(x_test)의 이미지 개수는\",idx,\"입니다.\")\n",
    "    return imgs, labels\n",
    "\n",
    "test_image_dir_path = os.getenv(\"HOME\") + \"/Project/rps_testset\"\n",
    "(project_x_test, project_y_test)=load_test_data(test_image_dir_path)\n",
    "project_x_test_norm = project_x_test/255.0   # 입력은 0~1 사이의 값으로 정규화\n",
    "\n",
    "print(\"project_x_test shape: {}\".format(project_x_test.shape))\n",
    "print(\"project_y_test shape: {}\".format(project_y_test.shape))"
   ]
  },
  {
   "cell_type": "code",
   "execution_count": 13,
   "metadata": {},
   "outputs": [
    {
     "name": "stdout",
     "output_type": "stream",
     "text": [
      "45/45 - 6s - loss: 1.4169 - accuracy: 0.6278\n",
      "test_loss: 1.4169142246246338 \n",
      "test_accuracy: 0.6277933120727539\n",
      "예측확률분포: [0.9074526  0.01245886 0.08008853]\n",
      "라벨: 2, 예측결과: 0\n"
     ]
    },
    {
     "data": {
      "image/png": "[encoded data removed]",
      "text/plain": [
       "<Figure size 432x288 with 1 Axes>"
      ]
     },
     "metadata": {
      "needs_background": "light"
     },
     "output_type": "display_data"
    },
    {
     "name": "stdout",
     "output_type": "stream",
     "text": [
      "예측확률분포: [0.00298434 0.08830275 0.9087129 ]\n",
      "라벨: 0, 예측결과: 2\n"
     ]
    },
    {
     "data": {
      "image/png": "[encoded data removed]",
      "text/plain": [
       "<Figure size 432x288 with 1 Axes>"
      ]
     },
     "metadata": {
      "needs_background": "light"
     },
     "output_type": "display_data"
    },
    {
     "name": "stdout",
     "output_type": "stream",
     "text": [
      "예측확률분포: [2.538563e-01 6.644832e-06 7.461371e-01]\n",
      "라벨: 0, 예측결과: 2\n"
     ]
    },
    {
     "data": {
      "image/png": "[encoded data removed]",
      "text/plain": [
       "<Figure size 432x288 with 1 Axes>"
      ]
     },
     "metadata": {
      "needs_background": "light"
     },
     "output_type": "display_data"
    },
    {
     "name": "stdout",
     "output_type": "stream",
     "text": [
      "예측확률분포: [6.5207225e-01 1.2328298e-04 3.4780452e-01]\n",
      "라벨: 2, 예측결과: 0\n"
     ]
    },
    {
     "data": {
      "image/png": "[encoded data removed]",
      "text/plain": [
       "<Figure size 432x288 with 1 Axes>"
      ]
     },
     "metadata": {
      "needs_background": "light"
     },
     "output_type": "display_data"
    },
    {
     "name": "stdout",
     "output_type": "stream",
     "text": [
      "예측확률분포: [9.9982291e-01 2.8788716e-05 1.4823311e-04]\n",
      "라벨: 1, 예측결과: 0\n"
     ]
    },
    {
     "data": {
      "image/png": "[encoded data removed]",
      "text/plain": [
       "<Figure size 432x288 with 1 Axes>"
      ]
     },
     "metadata": {
      "needs_background": "light"
     },
     "output_type": "display_data"
    }
   ],
   "source": [
    "# model을 학습시키는 코드를 직접 작성해 보세요.\n",
    "# Hint! model.evaluate()을 사용해 봅시다.\n",
    "# [[YOUR CODE]]\n",
    "project_x_test_reshaped=project_x_test_norm.reshape( -1, 28, 28, 3) \n",
    "\n",
    "test_loss, test_accuracy = model.evaluate(project_x_test_reshaped, project_y_test, verbose=2)\n",
    "print(\"test_loss: {} \".format(test_loss))\n",
    "print(\"test_accuracy: {}\".format(test_accuracy))\n",
    "\n",
    "\n",
    "import random\n",
    "### 어떠한 정보를 잘못예측하는지 알아보기 ###\n",
    "pro_predicted_result = model.predict(project_x_test_reshaped)  # model이 추론한 확률값. \n",
    "# print(pro_predicted_result.shape) # (300, 3)\n",
    "pro_predicted_labels = np.argmax(pro_predicted_result, axis=1)\n",
    "# print(pro_predicted_labels.shape) # (300, )\n",
    "\n",
    "pro_wrong_predict_list=[]\n",
    "for i, _ in enumerate(pro_predicted_labels):\n",
    "    # i번째 test_labels과 y_test이 다른 경우만 모아 봅시다. \n",
    "    if pro_predicted_labels[i] != project_y_test[i]:\n",
    "        pro_wrong_predict_list.append(i)\n",
    "\n",
    "\n",
    "# 5개만 추출\n",
    "samples = random.choices(population=pro_wrong_predict_list, k=5)\n",
    "for n in samples:\n",
    "    # print(n)\n",
    "    print(\"예측확률분포: \" + str(pro_predicted_result[n]))\n",
    "    print(\"라벨: \" + str(project_y_test[n]) + \", 예측결과: \" + str(pro_predicted_labels[n]))\n",
    "    plt.imshow(project_x_test[n], cmap=plt.cm.binary)\n",
    "    plt.show()"
   ]
  },
  {
   "cell_type": "markdown",
   "metadata": {},
   "source": [
    "# 회고\n",
    "\n",
    "### * 이번 프로젝트에서 어려웠던 점.\n",
    "    개인적으로 이번 프로젝트를 수행하면서 크게 어려웠던 점은 없었습니다. 다만, testset의 구성에 대해 깊은 고민을 해보는 시간이 되었습니다.\n",
    "    \n",
    "    \n",
    "### * 프로젝트를 진행하면서 알아낸 점 혹은 아직 모호한 점.\n",
    "    dataset을 직접 구성하는 것이 생각보다 귀찮고 어려운 작업이라는 것을 알게되었습니다.\n",
    "        \n",
    "    resize를 꼭 28x28로 해야하는 이유가 궁금해서 100x100으로도 진행해보았지만, 모델의 성능과는 크게 관련이 없는 것으로 확인했습니다. Conv2D 모델에 자체적으로 pooling 기능이 있어서 input data의 크기와 모델의 성능이 비례하지 않는거 같다는 개인적인 생각입니다.\n",
    "        \n",
    "    testset에 대한 개념을 명확히 하려고 하였습니다.\n",
    "    A, B, C라는 3명의 사람에서 추출한 전체 dataset에서 특정 비율로 랜덤하게 추출한 testset으로 사용\n",
    "    VS.\n",
    "    A, B, C에게 추출한 dataset은 trainset으로만 이용하고, 새롭게 D라는 사람에게서 얻은 데이터를 testset으로 사용\n",
    "    -> 결론 : A, B, C로부터 추출한 전체 dataset에서 trainset과 validationset을 추출하고, validset으로 모델의 성능을 검증하였으며 D, E로부터 새롭게 testset을 구성해 최종 모델 평가를 진행하였습니다. (모델의 logical함을 보이기 위함!)    \n",
    "            \n",
    "        \n",
    "        \n",
    "    \n",
    "### * 루브릭 평가 지표를 맞추기 위해 시도한 것들.\n",
    "    1) 이미지 분류기 모델이 성공적으로 만들어졌는가? (트레이닝이 정상적으로 수행되었는가)\n",
    "        네. 테스트 돌려본 결과 오류 없이 정상적으로 학습하는 것을 확인하였습니다. \n",
    "        (모델 학습 시 loss가 0으로 수렴하는 것 확인!)\n",
    "        \n",
    "    2) 오버피팅을 극복하기 위한 적절한 시도가 있었는가? (데이터셋의 다양성, 정규화 등의 시도가 적절하였는가)\n",
    "        공유된 여러 가위,바위,보 이미지 데이터셋을 통해 Testset의 크기를 크게 늘렸습니다. \n",
    "        (trainset의 크기 : 6561, validationset의 크기 : 268, testset의 크기 : 1432)\n",
    "        \n",
    "        정규화가 무엇을 의미하는 것인지 잘 모르겠지만, train과 test에 사용된 이미지 파일 모두 크기를 28x28로 resize하였고, png 파일의 경우 RGB채널로 맞춘 뒤 jpg 파일로 변환하여 학습을 진행하였습니다.\n",
    "        \n",
    "    3) 분류모델의 test accuracy가 기준 이상 높게 나왔는가? (60% 이상 도달하였는가)\n",
    "        네. 최종 모델의 성능은 loss: 1.4169, acc: 0.6278로 나왔습니다.\n",
    "        \n",
    "        \n",
    "    \n",
    "### * 다짐\n",
    "    toy dataset으로 AI project를 진행하면서 지금까지 놓치고 지나왔던 사소한 고민들에 대해 다시한번 생각해볼 수 있는 시간이었습니다. 앞으로의 프로젝트도 성실하게 수행하면서 개인적으로 라이브러리에서 제공되는 모델을 가져다가 쓰는 테크니션이 아니라 직접 모델을 설계할 줄 아는 엔지니어가 되고싶습니다.\n",
    "    \n",
    "    \n",
    "\n"
   ]
  }
 ],
 "metadata": {
  "kernelspec": {
   "display_name": "aiffel",
   "language": "python",
   "name": "aiffel"
  },
  "language_info": {
   "codemirror_mode": {
    "name": "ipython",
    "version": 3
   },
   "file_extension": ".py",
   "mimetype": "text/x-python",
   "name": "python",
   "nbconvert_exporter": "python",
   "pygments_lexer": "ipython3",
   "version": "3.7.9"
  }
 },
 "nbformat": 4,
 "nbformat_minor": 4
}
